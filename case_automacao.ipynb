{
  "nbformat": 4,
  "nbformat_minor": 0,
  "metadata": {
    "colab": {
      "name": "case_automacao.ipynb",
      "provenance": [],
      "collapsed_sections": []
    },
    "kernelspec": {
      "name": "python3",
      "display_name": "Python 3"
    },
    "language_info": {
      "name": "python"
    }
  },
  "cells": [
    {
      "cell_type": "code",
      "execution_count": 2,
      "metadata": {
        "id": "Q0Eejdc4pOZr"
      },
      "outputs": [],
      "source": [
        "import pandas as pd\n",
        "import math"
      ]
    },
    {
      "cell_type": "code",
      "source": [
        "from google.colab import drive\n",
        "drive.mount('/content/drive')"
      ],
      "metadata": {
        "colab": {
          "base_uri": "https://localhost:8080/"
        },
        "id": "wiAbBejW9oEK",
        "outputId": "c43f96a2-ab87-41b2-b7e3-202d997cec84"
      },
      "execution_count": 7,
      "outputs": [
        {
          "output_type": "stream",
          "name": "stdout",
          "text": [
            "Mounted at /content/drive\n"
          ]
        }
      ]
    },
    {
      "cell_type": "code",
      "source": [
        "#Atribuindo valores fixos conforme definição do enunciado\n",
        "\n",
        "#ID do sistema (Fixo)\n",
        "ID_sistema = \"MDA  \"\n",
        "#ID do tipo de linha 0=Header 1=Linha de dados\n",
        "id_tipo_linha = \"1\"\n",
        "#Código da ação (Fixo)\n",
        "cod_acao = \"ESPE\"\n",
        "#Código da operação (Fixo)\n",
        "cod_operacao = \"2021113018198581\"\n",
        "#Conta cliente (Fixo)\n",
        "conta_cliente = \"12692107\"\n",
        "#Código agendamento (Fixo)\n",
        "cod_agendamento = \"                \"\n",
        "#Dicionario de destinos de alocação\n",
        "destinos = {\"PF\":\" 1\",\"PJ\":\"14\"}"
      ],
      "metadata": {
        "id": "AzLrPp-3tyjZ"
      },
      "execution_count": 48,
      "outputs": []
    },
    {
      "cell_type": "code",
      "source": [
        "#Utilizando data informada na planilha\n",
        "data = pd.read_excel(\"/content/drive/MyDrive/Case automacao/Dados teste.xlsx\",usecols=\"A\" )\n",
        "ano = data.columns[0].year\n",
        "mes = data.columns[0].month\n",
        "dia = data.columns[0].day"
      ],
      "metadata": {
        "id": "EEPewkgP_x1S"
      },
      "execution_count": 59,
      "outputs": []
    },
    {
      "cell_type": "code",
      "source": [
        "#Lendo apenas os dados de CPF da planilha e limpando os valores nulos para a coluna CPF\n",
        "dados_cpf = pd.read_excel(\"/content/drive/MyDrive/Case automacao/Dados teste.xlsx\", skiprows=2, header=1, na_values=\" \", usecols=\"A:C\")\n",
        "dados_cpf_limpo = dados_cpf.dropna(subset=['CPF/CNPJ'])"
      ],
      "metadata": {
        "id": "i2q0cLniqkCu"
      },
      "execution_count": 50,
      "outputs": []
    },
    {
      "cell_type": "code",
      "source": [
        "#Removendo caracteres especiais do CPF e CNPJ e incluindo espaçamento após\n",
        "def conferir_identificador(valor_cpf):\n",
        "  if \"-\" in valor_cpf:\n",
        "    valor_cpf = valor_cpf.replace('-','')\n",
        "  if \".\" in valor_cpf:\n",
        "    valor_cpf = valor_cpf.replace('.','')\n",
        "  if len(valor_cpf)==11:\n",
        "    valor_cpf = valor_cpf + \"   \"\n",
        "  return valor_cpf"
      ],
      "metadata": {
        "id": "lnYPRr9YmT0f"
      },
      "execution_count": 60,
      "outputs": []
    },
    {
      "cell_type": "code",
      "source": [
        "#Formatando o campo de quantidade incluindo zeros antes e após a quantidade informada\n",
        "def preenche_pos_qtd(quantidade):\n",
        "  quantidade = quantidade.zfill(12) + \"00000000\"\n",
        "  return quantidade"
      ],
      "metadata": {
        "id": "zUrbP1tmEDlp"
      },
      "execution_count": 55,
      "outputs": []
    },
    {
      "cell_type": "code",
      "source": [
        "#Criando e incluindo o Header no dataframe\n",
        "header = {'data':[ID_sistema + str(0) + cod_acao + str(ano) + str(mes) + str(dia)]}\n",
        "data = pd.DataFrame(header)\n",
        "#Iterando os valores da tabela .xlsx, para cada valor da linha é coletados os valores, formatado e incluido ao dataframe\n",
        "for i in dados_cpf_limpo.index:\n",
        "  cpf = str(conferir_identificador(dados_cpf_limpo[\"CPF/CNPJ\"][i]))\n",
        "  qtd = preenche_pos_qtd(str(math.trunc(dados_cpf_limpo[\"Qtde\"][i])))\n",
        "  tipo_comitente = dados_cpf_limpo[\"Tipo do Comitente\"][i]\n",
        "  destino_colocacao = destinos[dados_cpf_limpo[\"Tipo do Comitente\"][i]]\n",
        "  datarow =  {'data':ID_sistema + id_tipo_linha + cod_acao + cod_operacao + qtd + conta_cliente + tipo_comitente + cpf + destino_colocacao + cod_agendamento}\n",
        "  data = data.append(datarow, ignore_index=True)"
      ],
      "metadata": {
        "id": "mwVkX8FuzDtM"
      },
      "execution_count": 62,
      "outputs": []
    },
    {
      "cell_type": "code",
      "source": [
        "#Exportando os valores para um arquivo .txt\n",
        "data.to_csv('MDATest.txt',index=False,header=False)"
      ],
      "metadata": {
        "id": "A92jD5rS7JVt"
      },
      "execution_count": 61,
      "outputs": []
    }
  ]
}